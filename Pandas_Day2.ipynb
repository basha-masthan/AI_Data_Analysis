{
 "cells": [
  {
   "cell_type": "code",
   "execution_count": 3,
   "metadata": {},
   "outputs": [],
   "source": [
    "import pandas as pd"
   ]
  },
  {
   "cell_type": "code",
   "execution_count": 14,
   "metadata": {},
   "outputs": [
    {
     "name": "stderr",
     "output_type": "stream",
     "text": [
      "C:\\Users\\basha\\AppData\\Local\\Temp\\ipykernel_19624\\2636558316.py:1: DtypeWarning: Columns (12) have mixed types. Specify dtype option on import or set low_memory=False.\n",
      "  dt = pd.read_csv('commodity_price.csv')\n"
     ]
    },
    {
     "data": {
      "application/vnd.microsoft.datawrangler.viewer.v0+json": {
       "columns": [
        {
         "name": "index",
         "rawType": "int64",
         "type": "integer"
        },
        {
         "name": "s_no",
         "rawType": "int64",
         "type": "integer"
        },
        {
         "name": "state",
         "rawType": "object",
         "type": "string"
        },
        {
         "name": "district",
         "rawType": "object",
         "type": "string"
        },
        {
         "name": "market",
         "rawType": "object",
         "type": "string"
        },
        {
         "name": "pincode",
         "rawType": "int64",
         "type": "integer"
        },
        {
         "name": "country",
         "rawType": "object",
         "type": "string"
        },
        {
         "name": "commodity",
         "rawType": "object",
         "type": "string"
        },
        {
         "name": "variety",
         "rawType": "object",
         "type": "string"
        },
        {
         "name": "arrival_date",
         "rawType": "object",
         "type": "string"
        },
        {
         "name": "min_price",
         "rawType": "float64",
         "type": "float"
        },
        {
         "name": "max_price",
         "rawType": "float64",
         "type": "float"
        },
        {
         "name": "modal_price",
         "rawType": "float64",
         "type": "float"
        },
        {
         "name": "update_date",
         "rawType": "object",
         "type": "unknown"
        }
       ],
       "conversionMethod": "pd.DataFrame",
       "ref": "0e975351-b8ea-4aca-943f-3b70f624572d",
       "rows": [
        [
         "0",
         "0",
         "Karnataka",
         "Belgaum",
         "Athani",
         "100001",
         "India",
         "Bull",
         "Bull",
         "26-01-2020",
         "20000.0",
         "40000.0",
         "40000.0",
         null
        ],
        [
         "1",
         "1",
         "Karnataka",
         "Belgaum",
         "Athani",
         "100002",
         "India",
         "Bull",
         "Bull",
         "16-02-2020",
         "10000.0",
         "12000.0",
         "11000.0",
         null
        ],
        [
         "2",
         "2",
         "Karnataka",
         "Belgaum",
         "Athani",
         "100003",
         "India",
         "Bull",
         "Bull",
         "01-03-2020",
         "32000.0",
         "40000.0",
         "35000.0",
         null
        ],
        [
         "3",
         "3",
         "Karnataka",
         "Belgaum",
         "Ramdurga",
         "100004",
         "India",
         "Bull",
         "Bull",
         "05-01-2020",
         "20000.0",
         "25000.0",
         "20000.0",
         null
        ],
        [
         "4",
         "4",
         "Karnataka",
         "Belgaum",
         "Ramdurga",
         "100005",
         "India",
         "BULL",
         "Bull",
         "12-01-2020",
         "20000.0",
         "35000.0",
         "25000.0",
         null
        ],
        [
         "5",
         "5",
         "Karnatak",
         "Belgaum",
         "Ramdurga",
         "100006",
         "India",
         "BULL",
         "Bull",
         "19-01-2020",
         "25000.0",
         "35000.0",
         "30000.0",
         null
        ],
        [
         "6",
         "6",
         "Karnataka",
         "Belgaum",
         "Ramdurga",
         "100007",
         "India",
         "BULL",
         "Bulll",
         "26-01-2020",
         "20000.0",
         "35000.0",
         "25000.0",
         null
        ],
        [
         "7",
         "7",
         "Karnataka",
         "Belgaum",
         "Ramdurga",
         "100008",
         "India",
         "BULL",
         "Bull",
         "23-02-2020",
         "25000.0",
         "25000.0",
         "25000.0",
         null
        ],
        [
         "8",
         "8",
         "Karnataka",
         "Belgaum",
         "Ramdurga",
         "100009",
         "India",
         "BULL",
         "Bull",
         "08-03-2020",
         "25000.0",
         "25000.0",
         "25000.0",
         null
        ],
        [
         "9",
         "9",
         "Karnataka",
         "Belgaum",
         "Ramdurga",
         "100010",
         "India",
         "BULL",
         "Bull",
         "15-03-2020",
         "25000.0",
         "25000.0",
         "25000.0",
         null
        ],
        [
         "10",
         "10",
         "Karnataka",
         "Davangere",
         "Davangere",
         "100011",
         "India",
         "BULL",
         "Bull",
         "24-01-2020",
         "40000.0",
         "65000.0",
         "52500.0",
         null
        ],
        [
         "11",
         "11",
         "Karnataka",
         "Dharwad",
         "Annigeri",
         "100012",
         "India",
         "BULL",
         "Bull",
         "09-01-2020",
         "21000.0",
         "21000.0",
         "21000.0",
         null
        ],
        [
         "12",
         "12",
         "Karnataka",
         "Dharwad",
         "Annigeri",
         "100013",
         "India",
         "BULL",
         "Bull",
         "06-02-2020",
         "27000.0",
         "27000.0",
         "27000.0",
         null
        ],
        [
         "13",
         "13",
         "Karnataka",
         "Hassan",
         "Channarayapatna",
         "100014",
         "India",
         "BULL",
         "Bull",
         "03-01-2020",
         "18000.0",
         "28000.0",
         "22000.0",
         null
        ],
        [
         "14",
         "14",
         "Karnataka",
         "Hassan",
         "Channarayapatna",
         "100015",
         "India",
         "BULL",
         "Bull",
         "10-01-2020",
         "12000.0",
         "26000.0",
         "22000.0",
         null
        ],
        [
         "15",
         "15",
         "Karnataka",
         "Hassan",
         "Channarayapatna",
         "100016",
         "India",
         "BULL",
         "Bull",
         "24-01-2020",
         "16000.0",
         "36000.0",
         "26000.0",
         null
        ],
        [
         "16",
         "16",
         "Karnataka",
         "Hassan",
         "Channarayapatna",
         "100017",
         "India",
         "BULL",
         "Bull",
         "31-01-2020",
         "10000.0",
         "15000.0",
         "13000.0",
         null
        ],
        [
         "17",
         "17",
         "Karnataka",
         "Hassan",
         "Channarayapatna",
         "100018",
         "India",
         "Bull",
         "Bull",
         "07-02-2020",
         "22000.0",
         "22000.0",
         "22000.0",
         null
        ],
        [
         "18",
         "18",
         "Karnataka",
         "Hassan",
         "Channarayapatna",
         "100019",
         "India",
         "Bull",
         "Bulll",
         "14-02-2020",
         "12000.0",
         "26000.0",
         "19000.0",
         null
        ],
        [
         "19",
         "19",
         "Karnataka",
         "Hassan",
         "Channarayapatna",
         "100020",
         "India",
         "Bull",
         "Bulll",
         "21-02-2020",
         "15000.0",
         "33000.0",
         "22000.0",
         null
        ],
        [
         "20",
         "20",
         "Karnataka",
         "Hassan",
         "Channarayapatna",
         "100021",
         "India",
         "Bull",
         "Bull",
         "28-02-2020",
         "12000.0",
         "36000.0",
         "22000.0",
         null
        ],
        [
         "21",
         "21",
         "Karnataka",
         "Hassan",
         "Channarayapatna",
         "100022",
         "India",
         "Bull",
         "Bull",
         "06-03-2020",
         "19000.0",
         "45000.0",
         "33000.0",
         null
        ],
        [
         "22",
         "22",
         "Karnataka",
         "Hassan",
         "Channarayapatna",
         "100023",
         "India",
         "Bull",
         "Bull",
         "13-03-2020",
         "18000.0",
         "25000.0",
         "20000.0",
         null
        ],
        [
         "23",
         "23",
         "Karnataka",
         "Hassan",
         "Channarayapatna",
         "100024",
         "India",
         "Bull",
         "Bull",
         "21-03-2020",
         "17000.0",
         "33000.0",
         "25000.0",
         null
        ],
        [
         "24",
         "24",
         "Karnataka",
         "Haveri",
         "Ranebennur",
         "100025",
         "India",
         "Bull",
         "Bull",
         "05-01-2020",
         "22000.0",
         "30000.0",
         "26000.0",
         null
        ],
        [
         "25",
         "25",
         "Karnataka",
         "Haveri",
         "Ranebennur",
         "100026",
         "India",
         "Bull",
         "Bull",
         "12-01-2020",
         "20000.0",
         "28000.0",
         "24000.0",
         null
        ],
        [
         "26",
         "26",
         "Karnatak",
         "Haveri",
         "Ranebennur",
         "100027",
         "India",
         "Bull",
         "Bull",
         "19-01-2020",
         "20000.0",
         "25000.0",
         "23000.0",
         null
        ],
        [
         "27",
         "27",
         "Karnatak",
         "Haveri",
         "Ranebennur",
         "100028",
         "India",
         "Bull",
         "Bull",
         "26-01-2020",
         "18000.0",
         "26000.0",
         "21000.0",
         null
        ],
        [
         "28",
         "28",
         "Karnatak",
         "Haveri",
         "Ranebennur",
         "100029",
         "India",
         "Bull",
         "Bull",
         "02-02-2020",
         "19000.0",
         "28000.0",
         "23000.0",
         null
        ],
        [
         "29",
         "29",
         "Karnatak",
         "Haveri",
         "Ranebennur",
         "100030",
         "India",
         "Bull",
         "Bull",
         "09-02-2020",
         "18000.0",
         "29000.0",
         "25000.0",
         null
        ],
        [
         "30",
         "30",
         "Karnatak",
         "Haveri",
         "Ranebennur",
         "100031",
         "India",
         "Bull",
         "Bull",
         "16-02-2020",
         "16000.0",
         "32000.0",
         "28000.0",
         null
        ],
        [
         "31",
         "31",
         "Karnatak",
         "Haveri",
         "Ranebennur",
         "100032",
         "India",
         "Bull",
         "Bull",
         "23-02-2020",
         "17000.0",
         "35000.0",
         "25000.0",
         null
        ],
        [
         "32",
         "32",
         "Karnatak",
         "Haveri",
         "Ranebennur",
         "100033",
         "India",
         "Bull",
         "Bull",
         "01-03-2020",
         "14000.0",
         "21000.0",
         "18000.0",
         null
        ],
        [
         "33",
         "33",
         "Karnataka",
         "Haveri",
         "Ranebennur",
         "100034",
         "India",
         "Bull",
         "Bull",
         "08-03-2020",
         "15000.0",
         "25000.0",
         "22000.0",
         null
        ],
        [
         "34",
         "34",
         "Karnataka",
         "Haveri",
         "Ranebennur",
         "100035",
         "India",
         "Bull",
         "Bull",
         "07-08-2020",
         "23000.0",
         "41000.0",
         "32000.0",
         null
        ],
        [
         "35",
         "35",
         "Karnatka",
         "Haveri",
         "Ranebennur",
         "100036",
         "India",
         "Bull",
         "Bull",
         "23-08-2020",
         "18000.0",
         "25000.0",
         "22000.0",
         null
        ],
        [
         "36",
         "36",
         "Karnatka",
         "Haveri",
         "Ranebennur",
         "100037",
         "India",
         "Bull",
         "Bull",
         "30-08-2020",
         "21000.0",
         "21000.0",
         "21000.0",
         null
        ],
        [
         "37",
         "37",
         "Karnatka",
         "Haveri",
         "Ranebennur",
         "100038",
         "India",
         "Bull",
         "Bull",
         "06-09-2020",
         "20000.0",
         "28000.0",
         "25000.0",
         null
        ],
        [
         "38",
         "38",
         "Karnataka",
         "Haveri",
         "Ranebennur",
         "100039",
         "India",
         "Bull",
         "Bull",
         "13-09-2020",
         "22000.0",
         "33000.0",
         "30000.0",
         null
        ],
        [
         "39",
         "39",
         "Karnataka",
         "Havri",
         "Ranebennur",
         "100040",
         "India",
         "Bull",
         "Bull",
         "20-09-2020",
         "18000.0",
         "23000.0",
         "21000.0",
         null
        ],
        [
         "40",
         "40",
         "Karnataka",
         "Havri",
         "Ranebennur",
         "100041",
         "India",
         "Bull",
         "Bull",
         "27-09-2020",
         "15000.0",
         "25000.0",
         "21500.0",
         null
        ],
        [
         "41",
         "41",
         "Karnataka",
         "Havri",
         "Ranebennur",
         "100042",
         "India",
         "Bull",
         "Bull",
         "04-10-2020",
         "16000.0",
         "25000.0",
         "20000.0",
         null
        ],
        [
         "42",
         "42",
         "Karnataka",
         "Havri",
         "Ranebennur",
         "100043",
         "India",
         "Bull",
         "Bull",
         "11-10-2020",
         "26000.0",
         "41000.0",
         "33000.0",
         null
        ],
        [
         "43",
         "43",
         "Karnatka",
         "Havri",
         "Ranebennur",
         "100044",
         "India",
         "Bull",
         "Bull",
         "18-10-2020",
         "22000.0",
         "38000.0",
         "30000.0",
         null
        ],
        [
         "44",
         "44",
         "Tripura",
         "Khowai",
         "Teliamura",
         "100045",
         "India",
         "Bull",
         "Bull",
         "03-01-2020",
         "16000.0",
         "36000.0",
         "28000.0",
         null
        ],
        [
         "45",
         "45",
         "Tripura",
         "Khowai",
         "Teliamura",
         "100046",
         "India",
         "Bull",
         "Bull",
         "10-01-2020",
         "17000.0",
         "36000.0",
         "28000.0",
         null
        ],
        [
         "46",
         "46",
         "Tripura",
         "Khowai",
         "Teliamura",
         "100047",
         "India",
         "Bull",
         "Bull",
         "17-01-2020",
         "16000.0",
         "36000.0",
         "24000.0",
         null
        ],
        [
         "47",
         "47",
         "Tripura",
         "Khowai",
         "Teliamura",
         "100048",
         "India",
         "Bull",
         "Bull",
         "24-01-2020",
         "16000.0",
         "37000.0",
         "23000.0",
         null
        ],
        [
         "48",
         "48",
         "Tripura",
         "Khowai",
         "Teliamura",
         "100049",
         "India",
         "Bull",
         "Bull",
         "31-01-2020",
         "18000.0",
         "35000.0",
         "28000.0",
         null
        ],
        [
         "49",
         "49",
         "Tripura",
         "Khowai",
         "Teliamura",
         "100050",
         "India",
         "Bull",
         "Bull",
         "14-02-2020",
         "17000.0",
         "35000.0",
         "28000.0",
         null
        ]
       ],
       "shape": {
        "columns": 13,
        "rows": 78651
       }
      },
      "text/html": [
       "<div>\n",
       "<style scoped>\n",
       "    .dataframe tbody tr th:only-of-type {\n",
       "        vertical-align: middle;\n",
       "    }\n",
       "\n",
       "    .dataframe tbody tr th {\n",
       "        vertical-align: top;\n",
       "    }\n",
       "\n",
       "    .dataframe thead th {\n",
       "        text-align: right;\n",
       "    }\n",
       "</style>\n",
       "<table border=\"1\" class=\"dataframe\">\n",
       "  <thead>\n",
       "    <tr style=\"text-align: right;\">\n",
       "      <th></th>\n",
       "      <th>s_no</th>\n",
       "      <th>state</th>\n",
       "      <th>district</th>\n",
       "      <th>market</th>\n",
       "      <th>pincode</th>\n",
       "      <th>country</th>\n",
       "      <th>commodity</th>\n",
       "      <th>variety</th>\n",
       "      <th>arrival_date</th>\n",
       "      <th>min_price</th>\n",
       "      <th>max_price</th>\n",
       "      <th>modal_price</th>\n",
       "      <th>update_date</th>\n",
       "    </tr>\n",
       "  </thead>\n",
       "  <tbody>\n",
       "    <tr>\n",
       "      <th>0</th>\n",
       "      <td>0</td>\n",
       "      <td>Karnataka</td>\n",
       "      <td>Belgaum</td>\n",
       "      <td>Athani</td>\n",
       "      <td>100001</td>\n",
       "      <td>India</td>\n",
       "      <td>Bull</td>\n",
       "      <td>Bull</td>\n",
       "      <td>26-01-2020</td>\n",
       "      <td>20000.0</td>\n",
       "      <td>40000.0</td>\n",
       "      <td>40000.0</td>\n",
       "      <td>NaN</td>\n",
       "    </tr>\n",
       "    <tr>\n",
       "      <th>1</th>\n",
       "      <td>1</td>\n",
       "      <td>Karnataka</td>\n",
       "      <td>Belgaum</td>\n",
       "      <td>Athani</td>\n",
       "      <td>100002</td>\n",
       "      <td>India</td>\n",
       "      <td>Bull</td>\n",
       "      <td>Bull</td>\n",
       "      <td>16-02-2020</td>\n",
       "      <td>10000.0</td>\n",
       "      <td>12000.0</td>\n",
       "      <td>11000.0</td>\n",
       "      <td>NaN</td>\n",
       "    </tr>\n",
       "    <tr>\n",
       "      <th>2</th>\n",
       "      <td>2</td>\n",
       "      <td>Karnataka</td>\n",
       "      <td>Belgaum</td>\n",
       "      <td>Athani</td>\n",
       "      <td>100003</td>\n",
       "      <td>India</td>\n",
       "      <td>Bull</td>\n",
       "      <td>Bull</td>\n",
       "      <td>01-03-2020</td>\n",
       "      <td>32000.0</td>\n",
       "      <td>40000.0</td>\n",
       "      <td>35000.0</td>\n",
       "      <td>NaN</td>\n",
       "    </tr>\n",
       "    <tr>\n",
       "      <th>3</th>\n",
       "      <td>3</td>\n",
       "      <td>Karnataka</td>\n",
       "      <td>Belgaum</td>\n",
       "      <td>Ramdurga</td>\n",
       "      <td>100004</td>\n",
       "      <td>India</td>\n",
       "      <td>Bull</td>\n",
       "      <td>Bull</td>\n",
       "      <td>05-01-2020</td>\n",
       "      <td>20000.0</td>\n",
       "      <td>25000.0</td>\n",
       "      <td>20000.0</td>\n",
       "      <td>NaN</td>\n",
       "    </tr>\n",
       "    <tr>\n",
       "      <th>4</th>\n",
       "      <td>4</td>\n",
       "      <td>Karnataka</td>\n",
       "      <td>Belgaum</td>\n",
       "      <td>Ramdurga</td>\n",
       "      <td>100005</td>\n",
       "      <td>India</td>\n",
       "      <td>BULL</td>\n",
       "      <td>Bull</td>\n",
       "      <td>12-01-2020</td>\n",
       "      <td>20000.0</td>\n",
       "      <td>35000.0</td>\n",
       "      <td>25000.0</td>\n",
       "      <td>NaN</td>\n",
       "    </tr>\n",
       "    <tr>\n",
       "      <th>...</th>\n",
       "      <td>...</td>\n",
       "      <td>...</td>\n",
       "      <td>...</td>\n",
       "      <td>...</td>\n",
       "      <td>...</td>\n",
       "      <td>...</td>\n",
       "      <td>...</td>\n",
       "      <td>...</td>\n",
       "      <td>...</td>\n",
       "      <td>...</td>\n",
       "      <td>...</td>\n",
       "      <td>...</td>\n",
       "      <td>...</td>\n",
       "    </tr>\n",
       "    <tr>\n",
       "      <th>78646</th>\n",
       "      <td>78598</td>\n",
       "      <td>West Bengal</td>\n",
       "      <td>Murshidabad</td>\n",
       "      <td>Jangipur</td>\n",
       "      <td>178599</td>\n",
       "      <td>India</td>\n",
       "      <td>Turmeric</td>\n",
       "      <td>Finger</td>\n",
       "      <td>26-12-2022</td>\n",
       "      <td>9440.0</td>\n",
       "      <td>9550.0</td>\n",
       "      <td>9500.0</td>\n",
       "      <td>NaN</td>\n",
       "    </tr>\n",
       "    <tr>\n",
       "      <th>78647</th>\n",
       "      <td>78599</td>\n",
       "      <td>West Bengal</td>\n",
       "      <td>Murshidabad</td>\n",
       "      <td>Jangipur</td>\n",
       "      <td>178600</td>\n",
       "      <td>India</td>\n",
       "      <td>Turmeric</td>\n",
       "      <td>Finger</td>\n",
       "      <td>27-12-2022</td>\n",
       "      <td>9435.0</td>\n",
       "      <td>9550.0</td>\n",
       "      <td>9490.0</td>\n",
       "      <td>NaN</td>\n",
       "    </tr>\n",
       "    <tr>\n",
       "      <th>78648</th>\n",
       "      <td>78600</td>\n",
       "      <td>West Bengal</td>\n",
       "      <td>Murshidabad</td>\n",
       "      <td>Jangipur</td>\n",
       "      <td>178601</td>\n",
       "      <td>India</td>\n",
       "      <td>Turmeric</td>\n",
       "      <td>Finger</td>\n",
       "      <td>28-12-2022</td>\n",
       "      <td>9410.0</td>\n",
       "      <td>9530.0</td>\n",
       "      <td>9475.0</td>\n",
       "      <td>NaN</td>\n",
       "    </tr>\n",
       "    <tr>\n",
       "      <th>78649</th>\n",
       "      <td>78601</td>\n",
       "      <td>West Bengal</td>\n",
       "      <td>Murshidabad</td>\n",
       "      <td>Jangipur</td>\n",
       "      <td>178602</td>\n",
       "      <td>India</td>\n",
       "      <td>Turmeric</td>\n",
       "      <td>Finger</td>\n",
       "      <td>29-12-2022</td>\n",
       "      <td>9425.0</td>\n",
       "      <td>9550.0</td>\n",
       "      <td>9490.0</td>\n",
       "      <td>NaN</td>\n",
       "    </tr>\n",
       "    <tr>\n",
       "      <th>78650</th>\n",
       "      <td>78602</td>\n",
       "      <td>West Bengal</td>\n",
       "      <td>Murshidabad</td>\n",
       "      <td>Jangipur</td>\n",
       "      <td>178603</td>\n",
       "      <td>India</td>\n",
       "      <td>Turmeric</td>\n",
       "      <td>Finger</td>\n",
       "      <td>30-12-2022</td>\n",
       "      <td>9425.0</td>\n",
       "      <td>9550.0</td>\n",
       "      <td>9490.0</td>\n",
       "      <td>NaN</td>\n",
       "    </tr>\n",
       "  </tbody>\n",
       "</table>\n",
       "<p>78651 rows × 13 columns</p>\n",
       "</div>"
      ],
      "text/plain": [
       "        s_no        state     district    market  pincode country commodity  \\\n",
       "0          0    Karnataka      Belgaum    Athani   100001   India      Bull   \n",
       "1          1    Karnataka      Belgaum    Athani   100002   India      Bull   \n",
       "2          2    Karnataka      Belgaum    Athani   100003   India      Bull   \n",
       "3          3    Karnataka      Belgaum  Ramdurga   100004   India      Bull   \n",
       "4          4    Karnataka      Belgaum  Ramdurga   100005   India      BULL   \n",
       "...      ...          ...          ...       ...      ...     ...       ...   \n",
       "78646  78598  West Bengal  Murshidabad  Jangipur   178599   India  Turmeric   \n",
       "78647  78599  West Bengal  Murshidabad  Jangipur   178600   India  Turmeric   \n",
       "78648  78600  West Bengal  Murshidabad  Jangipur   178601   India  Turmeric   \n",
       "78649  78601  West Bengal  Murshidabad  Jangipur   178602   India  Turmeric   \n",
       "78650  78602  West Bengal  Murshidabad  Jangipur   178603   India  Turmeric   \n",
       "\n",
       "      variety arrival_date  min_price  max_price  modal_price update_date  \n",
       "0        Bull   26-01-2020    20000.0    40000.0      40000.0         NaN  \n",
       "1        Bull   16-02-2020    10000.0    12000.0      11000.0         NaN  \n",
       "2        Bull   01-03-2020    32000.0    40000.0      35000.0         NaN  \n",
       "3        Bull   05-01-2020    20000.0    25000.0      20000.0         NaN  \n",
       "4        Bull   12-01-2020    20000.0    35000.0      25000.0         NaN  \n",
       "...       ...          ...        ...        ...          ...         ...  \n",
       "78646  Finger   26-12-2022     9440.0     9550.0       9500.0         NaN  \n",
       "78647  Finger   27-12-2022     9435.0     9550.0       9490.0         NaN  \n",
       "78648  Finger   28-12-2022     9410.0     9530.0       9475.0         NaN  \n",
       "78649  Finger   29-12-2022     9425.0     9550.0       9490.0         NaN  \n",
       "78650  Finger   30-12-2022     9425.0     9550.0       9490.0         NaN  \n",
       "\n",
       "[78651 rows x 13 columns]"
      ]
     },
     "execution_count": 14,
     "metadata": {},
     "output_type": "execute_result"
    }
   ],
   "source": [
    "dt = pd.read_csv('commodity_price.csv')\n",
    "dt"
   ]
  },
  {
   "cell_type": "code",
   "execution_count": 12,
   "metadata": {},
   "outputs": [
    {
     "data": {
      "text/plain": [
       "<Axes: xlabel='variety'>"
      ]
     },
     "execution_count": 12,
     "metadata": {},
     "output_type": "execute_result"
    },
    {
     "data": {
      "image/png": "[encoded data removed]",
      "text/plain": [
       "<Figure size 640x480 with 1 Axes>"
      ]
     },
     "metadata": {},
     "output_type": "display_data"
    }
   ],
   "source": [
    "dt.groupby(['variety']).modal_price.mean().plot(kind='bar')"
   ]
  },
  {
   "cell_type": "code",
   "execution_count": 18,
   "metadata": {},
   "outputs": [
    {
     "data": {
      "text/plain": [
       "arrival_date\n",
       "12-04-2022    0.006027\n",
       "08-03-2022    0.005874\n",
       "24-03-2022    0.005874\n",
       "10-03-2022    0.005874\n",
       "07-03-2022    0.005823\n",
       "                ...   \n",
       "23-08-2020    0.000013\n",
       "07-08-2020    0.000013\n",
       "30-08-2020    0.000013\n",
       "13-09-2020    0.000013\n",
       "04-10-2020    0.000013\n",
       "Name: proportion, Length: 810, dtype: float64"
      ]
     },
     "execution_count": 18,
     "metadata": {},
     "output_type": "execute_result"
    }
   ],
   "source": [
    "dt.arrival_date.value_counts(normalize=True)"
   ]
  },
  {
   "cell_type": "markdown",
   "metadata": {},
   "source": [
    "// MatplotLIB\n"
   ]
  },
  {
   "cell_type": "code",
   "execution_count": 21,
   "metadata": {},
   "outputs": [
    {
     "name": "stdout",
     "output_type": "stream",
     "text": [
      "Requirement already satisfied: matplotlib in c:\\python312\\lib\\site-packages (3.10.1)\n",
      "Collecting seaborn\n",
      "  Downloading seaborn-0.13.2-py3-none-any.whl.metadata (5.4 kB)\n",
      "Requirement already satisfied: contourpy>=1.0.1 in c:\\python312\\lib\\site-packages (from matplotlib) (1.3.1)\n",
      "Requirement already satisfied: cycler>=0.10 in c:\\python312\\lib\\site-packages (from matplotlib) (0.12.1)\n",
      "Requirement already satisfied: fonttools>=4.22.0 in c:\\python312\\lib\\site-packages (from matplotlib) (4.56.0)\n",
      "Requirement already satisfied: kiwisolver>=1.3.1 in c:\\python312\\lib\\site-packages (from matplotlib) (1.4.8)\n",
      "Requirement already satisfied: numpy>=1.23 in c:\\python312\\lib\\site-packages (from matplotlib) (2.2.3)\n",
      "Requirement already satisfied: packaging>=20.0 in c:\\python312\\lib\\site-packages (from matplotlib) (24.2)\n",
      "Requirement already satisfied: pillow>=8 in c:\\python312\\lib\\site-packages (from matplotlib) (10.3.0)\n",
      "Requirement already satisfied: pyparsing>=2.3.1 in c:\\python312\\lib\\site-packages (from matplotlib) (3.2.1)\n",
      "Requirement already satisfied: python-dateutil>=2.7 in c:\\python312\\lib\\site-packages (from matplotlib) (2.9.0.post0)\n",
      "Requirement already satisfied: pandas>=1.2 in c:\\python312\\lib\\site-packages (from seaborn) (2.2.3)\n",
      "Requirement already satisfied: pytz>=2020.1 in c:\\python312\\lib\\site-packages (from pandas>=1.2->seaborn) (2025.1)\n",
      "Requirement already satisfied: tzdata>=2022.7 in c:\\python312\\lib\\site-packages (from pandas>=1.2->seaborn) (2025.1)\n",
      "Requirement already satisfied: six>=1.5 in c:\\python312\\lib\\site-packages (from python-dateutil>=2.7->matplotlib) (1.17.0)\n",
      "Downloading seaborn-0.13.2-py3-none-any.whl (294 kB)\n",
      "Installing collected packages: seaborn\n",
      "Successfully installed seaborn-0.13.2\n",
      "Note: you may need to restart the kernel to use updated packages.\n"
     ]
    },
    {
     "name": "stderr",
     "output_type": "stream",
     "text": [
      "WARNING: Ignoring invalid distribution ~ (c:\\Python312\\Lib\\site-packages)\n",
      "WARNING: Ignoring invalid distribution ~-p (c:\\Python312\\Lib\\site-packages)\n",
      "WARNING: Ignoring invalid distribution ~andas (c:\\Python312\\Lib\\site-packages)\n",
      "WARNING: Ignoring invalid distribution ~ip (c:\\Python312\\Lib\\site-packages)\n",
      "WARNING: Ignoring invalid distribution ~jango (c:\\Python312\\Lib\\site-packages)\n",
      "WARNING: Ignoring invalid distribution ~~p (c:\\Python312\\Lib\\site-packages)\n",
      "WARNING: Ignoring invalid distribution ~ (c:\\Python312\\Lib\\site-packages)\n",
      "WARNING: Ignoring invalid distribution ~-p (c:\\Python312\\Lib\\site-packages)\n",
      "WARNING: Ignoring invalid distribution ~andas (c:\\Python312\\Lib\\site-packages)\n",
      "WARNING: Ignoring invalid distribution ~ip (c:\\Python312\\Lib\\site-packages)\n",
      "WARNING: Ignoring invalid distribution ~jango (c:\\Python312\\Lib\\site-packages)\n",
      "WARNING: Ignoring invalid distribution ~~p (c:\\Python312\\Lib\\site-packages)\n",
      "WARNING: Ignoring invalid distribution ~ (c:\\Python312\\Lib\\site-packages)\n",
      "WARNING: Ignoring invalid distribution ~-p (c:\\Python312\\Lib\\site-packages)\n",
      "WARNING: Ignoring invalid distribution ~andas (c:\\Python312\\Lib\\site-packages)\n",
      "WARNING: Ignoring invalid distribution ~ip (c:\\Python312\\Lib\\site-packages)\n",
      "WARNING: Ignoring invalid distribution ~jango (c:\\Python312\\Lib\\site-packages)\n",
      "WARNING: Ignoring invalid distribution ~~p (c:\\Python312\\Lib\\site-packages)\n"
     ]
    }
   ],
   "source": [
    "pip install matplotlib seaborn"
   ]
  },
  {
   "cell_type": "code",
   "execution_count": 29,
   "metadata": {},
   "outputs": [
    {
     "data": {
      "image/png": "[encoded data removed]",
      "text/plain": [
       "<Figure size 640x480 with 1 Axes>"
      ]
     },
     "metadata": {},
     "output_type": "display_data"
    }
   ],
   "source": [
    "import matplotlib.pyplot as pp\n",
    "c = ['A','B','C','D','E']\n",
    "v = [3,6,4,8,2]\n",
    "\n",
    "pp.bar(c,v)\n",
    "pp.xlabel('Category')\n",
    "pp.ylabel('Values')\n",
    "pp.title('Bar Chart Example')\n",
    "pp.show()"
   ]
  },
  {
   "cell_type": "code",
   "execution_count": 42,
   "metadata": {},
   "outputs": [
    {
     "data": {
      "image/png": "[encoded data removed]",
      "text/plain": [
       "<Figure size 640x480 with 1 Axes>"
      ]
     },
     "metadata": {},
     "output_type": "display_data"
    }
   ],
   "source": [
    "import matplotlib.pyplot as pp\n",
    "import numpy as np\n",
    "\n",
    "c = ['A','B','C','D','E']\n",
    "v = [3,6,4,8,2]\n",
    "# pp.scatter(c,v)\n",
    "\n",
    "x=np.random.rand(50)\n",
    "y=np.random.rand(50)\n",
    "pp.scatter(x,y,color='yellow',edgecolors='black')\n",
    "pp.xlabel('X Value')\n",
    "pp.ylabel('Y Value')\n",
    "pp.title('Bar Chart Example')\n",
    "pp.show()"
   ]
  },
  {
   "cell_type": "code",
   "execution_count": 56,
   "metadata": {},
   "outputs": [
    {
     "data": {
      "image/png": "[encoded data removed]",
      "text/plain": [
       "<Figure size 640x480 with 1 Axes>"
      ]
     },
     "metadata": {},
     "output_type": "display_data"
    }
   ],
   "source": [
    "# Create a Histogram\n",
    "\n",
    "import numpy as np\n",
    "import matplotlib.pyplot as pp\n",
    "\n",
    "data = np.random.normal(10, 5, 500)\n",
    "pp.hist(data, bins=20)\n",
    "\n",
    "pp.xlabel('Values')\n",
    "\n",
    "pp.ylabel('Frequency')\n",
    "\n",
    "pp.title('Histogram Example')\n",
    "\n",
    "pp.show()"
   ]
  },
  {
   "cell_type": "code",
   "execution_count": 66,
   "metadata": {},
   "outputs": [
    {
     "data": {
      "text/plain": [
       "<BarContainer object of 5 artists>"
      ]
     },
     "execution_count": 66,
     "metadata": {},
     "output_type": "execute_result"
    },
    {
     "data": {
      "image/png": "[encoded data removed]",
      "text/plain": [
       "<Figure size 1000x300 with 1 Axes>"
      ]
     },
     "metadata": {},
     "output_type": "display_data"
    }
   ],
   "source": [
    "c = ['A','B','C','D','E']\n",
    "v = [3,6,4,8,2]\n",
    "pp.figure(figsize=(10,3))\n",
    "pp.bar(c,v,color='black')"
   ]
  },
  {
   "cell_type": "code",
   "execution_count": 62,
   "metadata": {},
   "outputs": [
    {
     "data": {
      "text/plain": [
       "<matplotlib.collections.PathCollection at 0x153231bfe60>"
      ]
     },
     "execution_count": 62,
     "metadata": {},
     "output_type": "execute_result"
    },
    {
     "data": {
      "image/png": "[encoded data removed]",
      "text/plain": [
       "<Figure size 1000x300 with 1 Axes>"
      ]
     },
     "metadata": {},
     "output_type": "display_data"
    }
   ],
   "source": [
    "pp.figure(figsize=(10,3))\n",
    "pp.scatter(c,v,color='black')"
   ]
  },
  {
   "cell_type": "code",
   "execution_count": 73,
   "metadata": {},
   "outputs": [
    {
     "data": {
      "text/plain": [
       "(array([2., 1., 2., 1., 2., 1., 2., 2.]),\n",
       " array([ 1. ,  2.5,  4. ,  5.5,  7. ,  8.5, 10. , 11.5, 13. ]),\n",
       " <BarContainer object of 8 artists>)"
      ]
     },
     "execution_count": 73,
     "metadata": {},
     "output_type": "execute_result"
    },
    {
     "data": {
      "image/png": "[encoded data removed]",
      "text/plain": [
       "<Figure size 640x480 with 1 Axes>"
      ]
     },
     "metadata": {},
     "output_type": "display_data"
    }
   ],
   "source": [
    "marks=[1,2,3,4,5,6,7,8,9,10,11,12,13]\n",
    "pp.hist(marks, bins=8,color='red')"
   ]
  },
  {
   "cell_type": "code",
   "execution_count": 77,
   "metadata": {},
   "outputs": [
    {
     "data": {
      "text/plain": [
       "<Axes: >"
      ]
     },
     "execution_count": 77,
     "metadata": {},
     "output_type": "execute_result"
    },
    {
     "data": {
      "image/png": "[encoded data removed]",
      "text/plain": [
       "<Figure size 1000x200 with 1 Axes>"
      ]
     },
     "metadata": {},
     "output_type": "display_data"
    }
   ],
   "source": [
    "import seaborn as sns\n",
    "pp.figure(figsize=(10,2))\n",
    "sns.scatterplot(x=c,y=v,color='black')\n"
   ]
  },
  {
   "cell_type": "code",
   "execution_count": 79,
   "metadata": {},
   "outputs": [
    {
     "data": {
      "text/plain": [
       "<Axes: >"
      ]
     },
     "execution_count": 79,
     "metadata": {},
     "output_type": "execute_result"
    },
    {
     "data": {
      "image/png": "[encoded data removed]",
      "text/plain": [
       "<Figure size 640x480 with 1 Axes>"
      ]
     },
     "metadata": {},
     "output_type": "display_data"
    }
   ],
   "source": [
    "heights=[145,171,145,123,134]\n",
    "weights=[50,65,78,45,66]\n",
    "sizes=[100,234,456,123,134]\n",
    "sns.scatterplot(x=heights,y=weights,size=sizes,color='black',sizes=(30,200))"
   ]
  }
 ],
 "metadata": {
  "kernelspec": {
   "display_name": "Python 3",
   "language": "python",
   "name": "python3"
  },
  "language_info": {
   "codemirror_mode": {
    "name": "ipython",
    "version": 3
   },
   "file_extension": ".py",
   "mimetype": "text/x-python",
   "name": "python",
   "nbconvert_exporter": "python",
   "pygments_lexer": "ipython3",
   "version": "3.12.3"
  }
 },
 "nbformat": 4,
 "nbformat_minor": 2
}
